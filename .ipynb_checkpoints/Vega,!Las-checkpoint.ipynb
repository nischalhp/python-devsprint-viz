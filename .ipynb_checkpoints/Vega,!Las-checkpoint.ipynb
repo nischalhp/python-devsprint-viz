{
 "cells": [
  {
   "cell_type": "code",
   "execution_count": 1,
   "metadata": {
    "collapsed": false
   },
   "outputs": [],
   "source": [
    "from bar import Bar\n",
    "import display\n",
    "import pandas as pd\n",
    "from IPython.display import HTML"
   ]
  },
  {
   "cell_type": "code",
   "execution_count": 2,
   "metadata": {
    "collapsed": true
   },
   "outputs": [],
   "source": [
    "df = pd.read_csv(\"data/simple.csv\")"
   ]
  },
  {
   "cell_type": "code",
   "execution_count": 3,
   "metadata": {
    "collapsed": false
   },
   "outputs": [
    {
     "data": {
      "text/plain": [
       "Index([u'areas', u'sales'], dtype='object')"
      ]
     },
     "execution_count": 3,
     "metadata": {},
     "output_type": "execute_result"
    }
   ],
   "source": [
    "df.columns"
   ]
  },
  {
   "cell_type": "code",
   "execution_count": 4,
   "metadata": {
    "collapsed": true
   },
   "outputs": [],
   "source": [
    "xAxis = \"areas\"\n",
    "yAxis = \"sales\""
   ]
  },
  {
   "cell_type": "code",
   "execution_count": 5,
   "metadata": {
    "collapsed": true
   },
   "outputs": [],
   "source": [
    "selected_columns = [xAxis,yAxis]"
   ]
  },
  {
   "cell_type": "code",
   "execution_count": 6,
   "metadata": {
    "collapsed": true
   },
   "outputs": [],
   "source": [
    "bar = Bar(df[selected_columns],xAxis,yAxis)"
   ]
  },
  {
   "cell_type": "code",
   "execution_count": 7,
   "metadata": {
    "collapsed": false
   },
   "outputs": [],
   "source": [
    "spec = bar.getSpec()"
   ]
  },
  {
   "cell_type": "code",
   "execution_count": 8,
   "metadata": {
    "collapsed": false
   },
   "outputs": [
    {
     "name": "stdout",
     "output_type": "stream",
     "text": [
      "{\"marktype\": \"bar\", \"data\": {\"values\": [{\"sales\": 5, \"areas\": \"north\"}, {\"sales\": 25, \"areas\": \"east\"}, {\"sales\": 15, \"areas\": \"west\"}, {\"sales\": 20, \"areas\": \"south\"}, {\"sales\": 10, \"areas\": \"central\"}]}, \"encoding\": {\"y\": {\"type\": \"Q\", \"name\": \"sales\"}, \"x\": {\"type\": \"O\", \"name\": \"areas\"}}}\n"
     ]
    }
   ],
   "source": [
    "print spec"
   ]
  },
  {
   "cell_type": "code",
   "execution_count": 11,
   "metadata": {
    "collapsed": false
   },
   "outputs": [
    {
     "data": {
      "application/javascript": [
       "require.config({\n",
       "    shim: {\n",
       "        d3: { exports: \"d3\" },\n",
       "        topojson: {exports: \"topojson\"},\n",
       "        vega: {exports: \"vega\", deps: [\"d3\", \"topojson\"] },\n",
       "        vegalite: {exports: \"vegalite\", deps: [\"vega\"] }\n",
       "        \n",
       "    },\n",
       "    paths: {\n",
       "        d3: \"/files/libs/d3.3.5.6.min\",\n",
       "        topojson : \"/files/libs/topojson\",\n",
       "        vega: \"/files/libs/vega.1.5\",\n",
       "        vegalite: \"/files/libs/vegalite\"\n",
       "    }\n",
       "});\n",
       "\n",
       "\n",
       "require([\"d3\",\"topojson\", \"vega\", \"vegalite\"], function(d3, topojson,vega, vegalite) {\n",
       "    console.log(d3.version);\n",
       "    window.topojson = topojson;\n",
       "    console.log(topojson.version);\n",
       "    window.vega = vega;\n",
       "    console.log(vega.version);\n",
       "    window.vl = vegalite;\n",
       "    console.log(vegalite.version);\n",
       "});"
      ],
      "text/plain": [
       "<IPython.core.display.Javascript object>"
      ]
     },
     "metadata": {},
     "output_type": "display_data"
    }
   ],
   "source": [
    "%%javascript\n",
    "require.config({\n",
    "    shim: {\n",
    "        d3: { exports: \"d3\" },\n",
    "        topojson: {exports: \"topojson\"},\n",
    "        vega: {exports: \"vega\", deps: [\"d3\", \"topojson\"] },\n",
    "        vegalite: {exports: \"vegalite\", deps: [\"vega\"] }\n",
    "        \n",
    "    },\n",
    "    paths: {\n",
    "        d3: \"/files/libs/d3.3.5.6.min\",\n",
    "        topojson : \"/files/libs/topojson\",\n",
    "        vega: \"/files/libs/vega.1.5\",\n",
    "        vegalite: \"/files/libs/vegalite\"\n",
    "    }\n",
    "});\n",
    "\n",
    "\n",
    "require([\"d3\",\"topojson\", \"vega\", \"vegalite\"], function(d3, topojson,vega, vegalite) {\n",
    "    console.log(d3.version);\n",
    "    window.topojson = topojson;\n",
    "    console.log(topojson.version);\n",
    "    window.vega = vega;\n",
    "    console.log(vega.version);\n",
    "    window.vl = vegalite;\n",
    "    console.log(vegalite.version);\n",
    "});"
   ]
  },
  {
   "cell_type": "code",
   "execution_count": 12,
   "metadata": {
    "collapsed": false
   },
   "outputs": [
    {
     "data": {
      "text/html": [
       "<div id='vis'></div><script type=\"text/Javascript\">\n",
       "(function () {\n",
       "  var vgspec = vl.compile({\"marktype\": \"bar\", \"data\": {\"values\": [{\"sales\": 5, \"areas\": \"north\"}, {\"sales\": 25, \"areas\": \"east\"}, {\"sales\": 15, \"areas\": \"west\"}, {\"sales\": 20, \"areas\": \"south\"}, {\"sales\": 10, \"areas\": \"central\"}]}, \"encoding\": {\"y\": {\"type\": \"Q\", \"name\": \"sales\"}, \"x\": {\"type\": \"O\", \"name\": \"areas\"}}});\n",
       "  vega.parse.spec(vgspec, function(chart){\n",
       "  chart({el:\"#vis\"}).update();\n",
       "  });\n",
       "})();\n",
       "</script>"
      ],
      "text/plain": [
       "<IPython.core.display.HTML object>"
      ]
     },
     "execution_count": 12,
     "metadata": {},
     "output_type": "execute_result"
    }
   ],
   "source": [
    "html = \"\"\"<div id='vis'></div>\"\"\"\n",
    "js = \"\"\"<script type=\"text/Javascript\">\n",
    "(function () {\n",
    "  var vgspec = vl.compile(%s);\n",
    "  vega.parse.spec(vgspec, function(chart){\n",
    "  chart({el:\"#vis\"}).update();\n",
    "  });\n",
    "})();\n",
    "</script>\"\"\" % spec\n",
    "HTML(html+js)\n"
   ]
  },
  {
   "cell_type": "code",
   "execution_count": null,
   "metadata": {
    "collapsed": true
   },
   "outputs": [],
   "source": []
  },
  {
   "cell_type": "code",
   "execution_count": null,
   "metadata": {
    "collapsed": true
   },
   "outputs": [],
   "source": []
  }
 ],
 "metadata": {
  "kernelspec": {
   "display_name": "Python 2",
   "language": "python",
   "name": "python2"
  },
  "language_info": {
   "codemirror_mode": {
    "name": "ipython",
    "version": 2
   },
   "file_extension": ".py",
   "mimetype": "text/x-python",
   "name": "python",
   "nbconvert_exporter": "python",
   "pygments_lexer": "ipython2",
   "version": "2.7.10"
  }
 },
 "nbformat": 4,
 "nbformat_minor": 0
}
